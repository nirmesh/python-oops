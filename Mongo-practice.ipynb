{
 "cells": [
  {
   "cell_type": "code",
   "execution_count": 41,
   "metadata": {},
   "outputs": [],
   "source": [
    "import pymongo\n",
    "from pymongo import MongoClient"
   ]
  },
  {
   "cell_type": "code",
   "execution_count": 42,
   "metadata": {},
   "outputs": [],
   "source": [
    "url=\"mongodb://localhost:27017/test?retryWrites=false\"\n",
    "client=MongoClient(url)"
   ]
  },
  {
   "cell_type": "code",
   "execution_count": 43,
   "metadata": {},
   "outputs": [
    {
     "data": {
      "text/plain": [
       "MongoClient(host=['localhost:27017'], document_class=dict, tz_aware=False, connect=True, retrywrites=False)"
      ]
     },
     "execution_count": 43,
     "metadata": {},
     "output_type": "execute_result"
    }
   ],
   "source": [
    "client"
   ]
  },
  {
   "cell_type": "code",
   "execution_count": 44,
   "metadata": {},
   "outputs": [],
   "source": [
    "db=client['test'] # creates database if not exist"
   ]
  },
  {
   "cell_type": "code",
   "execution_count": 45,
   "metadata": {},
   "outputs": [],
   "source": [
    "cust_info_collection = db['customer_information'] # creates collection"
   ]
  },
  {
   "cell_type": "code",
   "execution_count": 47,
   "metadata": {},
   "outputs": [
    {
     "data": {
      "text/plain": [
       "<pymongo.results.InsertManyResult at 0x7f8b5a000550>"
      ]
     },
     "execution_count": 47,
     "metadata": {},
     "output_type": "execute_result"
    }
   ],
   "source": [
    "cust_info_collection.insert_many([\n",
    "    {\"_id\":8000,\"name\":\"tt\",\"roll_no\":\"10\"},\n",
    "    {\"_id\":9000,\"name\":\"yy\",\"roll_no\":\"15\"}\n",
    "    ])"
   ]
  },
  {
   "cell_type": "code",
   "execution_count": 48,
   "metadata": {},
   "outputs": [],
   "source": [
    "import pprint"
   ]
  },
  {
   "cell_type": "code",
   "execution_count": 55,
   "metadata": {},
   "outputs": [
    {
     "name": "stdout",
     "output_type": "stream",
     "text": [
      "{'_id': 100, 'name': 'Ram', 'roll_no': '10'}\n"
     ]
    }
   ],
   "source": [
    "pprint.pprint(cust_info_collection.find_one())"
   ]
  },
  {
   "cell_type": "code",
   "execution_count": 56,
   "metadata": {},
   "outputs": [
    {
     "name": "stdout",
     "output_type": "stream",
     "text": [
      "{'_id': 100, 'name': 'Ram', 'roll_no': '10'}\n",
      "{'_id': 200, 'name': 'shyam', 'roll_no': '15'}\n",
      "{'_id': 1000, 'name': 'Ram', 'roll_no': '10'}\n",
      "{'_id': 2000, 'name': 'shyam', 'roll_no': '15'}\n",
      "{'_id': 3000, 'name': 'qq', 'roll_no': '10'}\n",
      "{'_id': 4000, 'name': 'ww', 'roll_no': '15'}\n",
      "{'_id': 5000, 'name': 'tt', 'roll_no': '10'}\n",
      "{'_id': 6000, 'name': 'yy', 'roll_no': '15'}\n",
      "{'_id': 8000, 'name': 'tt', 'roll_no': '10'}\n",
      "{'_id': 9000, 'name': 'yy', 'roll_no': '15'}\n"
     ]
    }
   ],
   "source": [
    "for i in cust_info_collection.find():\n",
    "    pprint.pprint(i)"
   ]
  },
  {
   "cell_type": "code",
   "execution_count": null,
   "metadata": {},
   "outputs": [],
   "source": []
  }
 ],
 "metadata": {
  "kernelspec": {
   "display_name": "Python 3",
   "language": "python",
   "name": "python3"
  },
  "language_info": {
   "codemirror_mode": {
    "name": "ipython",
    "version": 3
   },
   "file_extension": ".py",
   "mimetype": "text/x-python",
   "name": "python",
   "nbconvert_exporter": "python",
   "pygments_lexer": "ipython3",
   "version": "3.7.6"
  }
 },
 "nbformat": 4,
 "nbformat_minor": 4
}
